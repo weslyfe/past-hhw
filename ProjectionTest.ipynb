{
 "cells": [
  {
   "cell_type": "code",
   "execution_count": 1,
   "id": "6bede204",
   "metadata": {},
   "outputs": [],
   "source": [
    "from tpkutils import TPK\n",
    "\n",
    "tpk = TPK(\"./basemap/maritimeBase_lod8_18.tpk\")\n",
    "tpk.to_mbtiles('maritimeBase.mbtiles')"
   ]
  },
  {
   "cell_type": "code",
   "execution_count": 2,
   "id": "de5a8afa",
   "metadata": {},
   "outputs": [],
   "source": [
    "from mbutil import util\n",
    "\n",
    "tile = util.mbtiles_to_disk(\"maritimeBase.mbtiles\", \"maritimeBase\")"
   ]
  },
  {
   "cell_type": "code",
   "execution_count": 3,
   "id": "aea12ba2",
   "metadata": {},
   "outputs": [
    {
     "data": {
      "application/vnd.jupyter.widget-view+json": {
       "model_id": "1b7287d52e4241c18f1b0be7f1575420",
       "version_major": 2,
       "version_minor": 0
      },
      "text/plain": [
       "Map(center=[45.284002, -64.2572311], controls=(ZoomControl(options=['position', 'zoom_in_text', 'zoom_in_title…"
      ]
     },
     "metadata": {},
     "output_type": "display_data"
    }
   ],
   "source": [
    "from ipyleaflet import LocalTileLayer, Map\n",
    "\n",
    "mapper = Map(center=(45.2840020, -64.2572311), zoom=8)\n",
    "basemap = LocalTileLayer(tms = True, path=\"maritimeBase/{z}/{x}/{y}.png\")\n",
    "mapper.add_layer(layer=basemap)\n",
    "mapper"
   ]
  },
  {
   "cell_type": "code",
   "execution_count": null,
   "id": "1df583f5",
   "metadata": {},
   "outputs": [],
   "source": []
  }
 ],
 "metadata": {
  "kernelspec": {
   "display_name": "Python 3",
   "language": "python",
   "name": "python3"
  },
  "language_info": {
   "codemirror_mode": {
    "name": "ipython",
    "version": 3
   },
   "file_extension": ".py",
   "mimetype": "text/x-python",
   "name": "python",
   "nbconvert_exporter": "python",
   "pygments_lexer": "ipython3",
   "version": "3.8.10"
  }
 },
 "nbformat": 4,
 "nbformat_minor": 5
}
